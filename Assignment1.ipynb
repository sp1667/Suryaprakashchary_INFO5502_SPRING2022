{
  "cells": [
    {
      "cell_type": "markdown",
      "metadata": {
        "id": "view-in-github",
        "colab_type": "text"
      },
      "source": [
        "<a href=\"https://colab.research.google.com/github/sp1667/Suryaprakashchary_INFO5502_SPRING2022/blob/main/Assignment1.ipynb\" target=\"_parent\"><img src=\"https://colab.research.google.com/assets/colab-badge.svg\" alt=\"Open In Colab\"/></a>"
      ]
    },
    {
      "cell_type": "markdown",
      "id": "0eb6fb43",
      "metadata": {
        "id": "0eb6fb43"
      },
      "source": [
        "### Simple Linear Model -1"
      ]
    },
    {
      "cell_type": "code",
      "execution_count": 2,
      "id": "cc0611dc",
      "metadata": {
        "id": "cc0611dc"
      },
      "outputs": [],
      "source": [
        "# Importing required libraries\n",
        "import pandas as pd\n",
        "import numpy as np\n",
        "import matplotlib.pyplot as plt\n",
        "from sklearn import linear_model\n",
        "from sklearn.metrics import mean_squared_error"
      ]
    },
    {
      "cell_type": "code",
      "execution_count": 4,
      "id": "68d682e3",
      "metadata": {
        "colab": {
          "base_uri": "https://localhost:8080/",
          "height": 424
        },
        "id": "68d682e3",
        "outputId": "be85adc7-84b1-4b6a-9769-ed8740a635e7"
      },
      "outputs": [
        {
          "output_type": "execute_result",
          "data": {
            "text/plain": [
              "        PRICE  HEIGHT  WIDTH  SIGNED  PICTURE  HOUSE \n",
              "0    3.993780    21.3   25.6       1        1       1\n",
              "1    8.800000    31.9   25.6       1        2       2\n",
              "2    0.131694     6.9   15.9       0        3       3\n",
              "3    2.037500    25.7   32.0       1        4       2\n",
              "4    1.487500    25.7   32.0       1        4       2\n",
              "..        ...     ...    ...     ...      ...     ...\n",
              "425  5.282500    25.6   39.4       1      375       1\n",
              "426  9.352500    25.9   39.6       1      375       2\n",
              "427  8.252500    25.6   39.6       1      375       1\n",
              "428  3.410000    25.6   39.4       1      386       2\n",
              "429  1.542500    25.7   32.0       1      387       1\n",
              "\n",
              "[430 rows x 6 columns]"
            ],
            "text/html": [
              "\n",
              "  <div id=\"df-07282c71-9c9e-4541-bc4f-3b5cb4022044\">\n",
              "    <div class=\"colab-df-container\">\n",
              "      <div>\n",
              "<style scoped>\n",
              "    .dataframe tbody tr th:only-of-type {\n",
              "        vertical-align: middle;\n",
              "    }\n",
              "\n",
              "    .dataframe tbody tr th {\n",
              "        vertical-align: top;\n",
              "    }\n",
              "\n",
              "    .dataframe thead th {\n",
              "        text-align: right;\n",
              "    }\n",
              "</style>\n",
              "<table border=\"1\" class=\"dataframe\">\n",
              "  <thead>\n",
              "    <tr style=\"text-align: right;\">\n",
              "      <th></th>\n",
              "      <th>PRICE</th>\n",
              "      <th>HEIGHT</th>\n",
              "      <th>WIDTH</th>\n",
              "      <th>SIGNED</th>\n",
              "      <th>PICTURE</th>\n",
              "      <th>HOUSE</th>\n",
              "    </tr>\n",
              "  </thead>\n",
              "  <tbody>\n",
              "    <tr>\n",
              "      <th>0</th>\n",
              "      <td>3.993780</td>\n",
              "      <td>21.3</td>\n",
              "      <td>25.6</td>\n",
              "      <td>1</td>\n",
              "      <td>1</td>\n",
              "      <td>1</td>\n",
              "    </tr>\n",
              "    <tr>\n",
              "      <th>1</th>\n",
              "      <td>8.800000</td>\n",
              "      <td>31.9</td>\n",
              "      <td>25.6</td>\n",
              "      <td>1</td>\n",
              "      <td>2</td>\n",
              "      <td>2</td>\n",
              "    </tr>\n",
              "    <tr>\n",
              "      <th>2</th>\n",
              "      <td>0.131694</td>\n",
              "      <td>6.9</td>\n",
              "      <td>15.9</td>\n",
              "      <td>0</td>\n",
              "      <td>3</td>\n",
              "      <td>3</td>\n",
              "    </tr>\n",
              "    <tr>\n",
              "      <th>3</th>\n",
              "      <td>2.037500</td>\n",
              "      <td>25.7</td>\n",
              "      <td>32.0</td>\n",
              "      <td>1</td>\n",
              "      <td>4</td>\n",
              "      <td>2</td>\n",
              "    </tr>\n",
              "    <tr>\n",
              "      <th>4</th>\n",
              "      <td>1.487500</td>\n",
              "      <td>25.7</td>\n",
              "      <td>32.0</td>\n",
              "      <td>1</td>\n",
              "      <td>4</td>\n",
              "      <td>2</td>\n",
              "    </tr>\n",
              "    <tr>\n",
              "      <th>...</th>\n",
              "      <td>...</td>\n",
              "      <td>...</td>\n",
              "      <td>...</td>\n",
              "      <td>...</td>\n",
              "      <td>...</td>\n",
              "      <td>...</td>\n",
              "    </tr>\n",
              "    <tr>\n",
              "      <th>425</th>\n",
              "      <td>5.282500</td>\n",
              "      <td>25.6</td>\n",
              "      <td>39.4</td>\n",
              "      <td>1</td>\n",
              "      <td>375</td>\n",
              "      <td>1</td>\n",
              "    </tr>\n",
              "    <tr>\n",
              "      <th>426</th>\n",
              "      <td>9.352500</td>\n",
              "      <td>25.9</td>\n",
              "      <td>39.6</td>\n",
              "      <td>1</td>\n",
              "      <td>375</td>\n",
              "      <td>2</td>\n",
              "    </tr>\n",
              "    <tr>\n",
              "      <th>427</th>\n",
              "      <td>8.252500</td>\n",
              "      <td>25.6</td>\n",
              "      <td>39.6</td>\n",
              "      <td>1</td>\n",
              "      <td>375</td>\n",
              "      <td>1</td>\n",
              "    </tr>\n",
              "    <tr>\n",
              "      <th>428</th>\n",
              "      <td>3.410000</td>\n",
              "      <td>25.6</td>\n",
              "      <td>39.4</td>\n",
              "      <td>1</td>\n",
              "      <td>386</td>\n",
              "      <td>2</td>\n",
              "    </tr>\n",
              "    <tr>\n",
              "      <th>429</th>\n",
              "      <td>1.542500</td>\n",
              "      <td>25.7</td>\n",
              "      <td>32.0</td>\n",
              "      <td>1</td>\n",
              "      <td>387</td>\n",
              "      <td>1</td>\n",
              "    </tr>\n",
              "  </tbody>\n",
              "</table>\n",
              "<p>430 rows × 6 columns</p>\n",
              "</div>\n",
              "      <button class=\"colab-df-convert\" onclick=\"convertToInteractive('df-07282c71-9c9e-4541-bc4f-3b5cb4022044')\"\n",
              "              title=\"Convert this dataframe to an interactive table.\"\n",
              "              style=\"display:none;\">\n",
              "        \n",
              "  <svg xmlns=\"http://www.w3.org/2000/svg\" height=\"24px\"viewBox=\"0 0 24 24\"\n",
              "       width=\"24px\">\n",
              "    <path d=\"M0 0h24v24H0V0z\" fill=\"none\"/>\n",
              "    <path d=\"M18.56 5.44l.94 2.06.94-2.06 2.06-.94-2.06-.94-.94-2.06-.94 2.06-2.06.94zm-11 1L8.5 8.5l.94-2.06 2.06-.94-2.06-.94L8.5 2.5l-.94 2.06-2.06.94zm10 10l.94 2.06.94-2.06 2.06-.94-2.06-.94-.94-2.06-.94 2.06-2.06.94z\"/><path d=\"M17.41 7.96l-1.37-1.37c-.4-.4-.92-.59-1.43-.59-.52 0-1.04.2-1.43.59L10.3 9.45l-7.72 7.72c-.78.78-.78 2.05 0 2.83L4 21.41c.39.39.9.59 1.41.59.51 0 1.02-.2 1.41-.59l7.78-7.78 2.81-2.81c.8-.78.8-2.07 0-2.86zM5.41 20L4 18.59l7.72-7.72 1.47 1.35L5.41 20z\"/>\n",
              "  </svg>\n",
              "      </button>\n",
              "      \n",
              "  <style>\n",
              "    .colab-df-container {\n",
              "      display:flex;\n",
              "      flex-wrap:wrap;\n",
              "      gap: 12px;\n",
              "    }\n",
              "\n",
              "    .colab-df-convert {\n",
              "      background-color: #E8F0FE;\n",
              "      border: none;\n",
              "      border-radius: 50%;\n",
              "      cursor: pointer;\n",
              "      display: none;\n",
              "      fill: #1967D2;\n",
              "      height: 32px;\n",
              "      padding: 0 0 0 0;\n",
              "      width: 32px;\n",
              "    }\n",
              "\n",
              "    .colab-df-convert:hover {\n",
              "      background-color: #E2EBFA;\n",
              "      box-shadow: 0px 1px 2px rgba(60, 64, 67, 0.3), 0px 1px 3px 1px rgba(60, 64, 67, 0.15);\n",
              "      fill: #174EA6;\n",
              "    }\n",
              "\n",
              "    [theme=dark] .colab-df-convert {\n",
              "      background-color: #3B4455;\n",
              "      fill: #D2E3FC;\n",
              "    }\n",
              "\n",
              "    [theme=dark] .colab-df-convert:hover {\n",
              "      background-color: #434B5C;\n",
              "      box-shadow: 0px 1px 3px 1px rgba(0, 0, 0, 0.15);\n",
              "      filter: drop-shadow(0px 1px 2px rgba(0, 0, 0, 0.3));\n",
              "      fill: #FFFFFF;\n",
              "    }\n",
              "  </style>\n",
              "\n",
              "      <script>\n",
              "        const buttonEl =\n",
              "          document.querySelector('#df-07282c71-9c9e-4541-bc4f-3b5cb4022044 button.colab-df-convert');\n",
              "        buttonEl.style.display =\n",
              "          google.colab.kernel.accessAllowed ? 'block' : 'none';\n",
              "\n",
              "        async function convertToInteractive(key) {\n",
              "          const element = document.querySelector('#df-07282c71-9c9e-4541-bc4f-3b5cb4022044');\n",
              "          const dataTable =\n",
              "            await google.colab.kernel.invokeFunction('convertToInteractive',\n",
              "                                                     [key], {});\n",
              "          if (!dataTable) return;\n",
              "\n",
              "          const docLinkHtml = 'Like what you see? Visit the ' +\n",
              "            '<a target=\"_blank\" href=https://colab.research.google.com/notebooks/data_table.ipynb>data table notebook</a>'\n",
              "            + ' to learn more about interactive tables.';\n",
              "          element.innerHTML = '';\n",
              "          dataTable['output_type'] = 'display_data';\n",
              "          await google.colab.output.renderOutput(dataTable, element);\n",
              "          const docLink = document.createElement('div');\n",
              "          docLink.innerHTML = docLinkHtml;\n",
              "          element.appendChild(docLink);\n",
              "        }\n",
              "      </script>\n",
              "    </div>\n",
              "  </div>\n",
              "  "
            ]
          },
          "metadata": {},
          "execution_count": 4
        }
      ],
      "source": [
        "# Reading the monet dataset by using pandas\n",
        "dset = pd.read_csv(\"/content/monet.csv\")\n",
        "dset"
      ]
    },
    {
      "cell_type": "code",
      "execution_count": 5,
      "id": "c8d3a93d",
      "metadata": {
        "colab": {
          "base_uri": "https://localhost:8080/"
        },
        "id": "c8d3a93d",
        "outputId": "94e24802-44fd-4e29-952a-ce72e3fd8ff8"
      },
      "outputs": [
        {
          "output_type": "execute_result",
          "data": {
            "text/plain": [
              "Index(['PRICE', 'HEIGHT', 'WIDTH', 'SIGNED', 'PICTURE', 'HOUSE '], dtype='object')"
            ]
          },
          "metadata": {},
          "execution_count": 5
        }
      ],
      "source": [
        "# Printing the columns names of the dataset\n",
        "dset.columns"
      ]
    },
    {
      "cell_type": "code",
      "execution_count": 6,
      "id": "b952368e",
      "metadata": {
        "colab": {
          "base_uri": "https://localhost:8080/"
        },
        "id": "b952368e",
        "outputId": "1bbc81cf-4b98-4b14-958b-c8eeff700096"
      },
      "outputs": [
        {
          "output_type": "execute_result",
          "data": {
            "text/plain": [
              "0"
            ]
          },
          "metadata": {},
          "execution_count": 6
        }
      ],
      "source": [
        "# Printing number of null values in each column\n",
        "dset.isnull().sum().sum()"
      ]
    },
    {
      "cell_type": "code",
      "execution_count": 7,
      "id": "5c416734",
      "metadata": {
        "id": "5c416734"
      },
      "outputs": [],
      "source": [
        "# Created new column as SIZE which is multiple of HEIGHT and WIDTH columns\n",
        "dset['SIZE']=dset.HEIGHT*dset.WIDTH"
      ]
    },
    {
      "cell_type": "code",
      "execution_count": 8,
      "id": "7a8ec245",
      "metadata": {
        "colab": {
          "base_uri": "https://localhost:8080/",
          "height": 424
        },
        "id": "7a8ec245",
        "outputId": "74301199-de2f-429c-f800-667d28b5d309"
      },
      "outputs": [
        {
          "output_type": "execute_result",
          "data": {
            "text/plain": [
              "     HEIGHT  WIDTH  SIGNED  PICTURE  HOUSE      SIZE\n",
              "0      21.3   25.6       1        1       1   545.28\n",
              "1      31.9   25.6       1        2       2   816.64\n",
              "2       6.9   15.9       0        3       3   109.71\n",
              "3      25.7   32.0       1        4       2   822.40\n",
              "4      25.7   32.0       1        4       2   822.40\n",
              "..      ...    ...     ...      ...     ...      ...\n",
              "425    25.6   39.4       1      375       1  1008.64\n",
              "426    25.9   39.6       1      375       2  1025.64\n",
              "427    25.6   39.6       1      375       1  1013.76\n",
              "428    25.6   39.4       1      386       2  1008.64\n",
              "429    25.7   32.0       1      387       1   822.40\n",
              "\n",
              "[430 rows x 6 columns]"
            ],
            "text/html": [
              "\n",
              "  <div id=\"df-123caef2-00d2-49ea-a03e-c97d11722895\">\n",
              "    <div class=\"colab-df-container\">\n",
              "      <div>\n",
              "<style scoped>\n",
              "    .dataframe tbody tr th:only-of-type {\n",
              "        vertical-align: middle;\n",
              "    }\n",
              "\n",
              "    .dataframe tbody tr th {\n",
              "        vertical-align: top;\n",
              "    }\n",
              "\n",
              "    .dataframe thead th {\n",
              "        text-align: right;\n",
              "    }\n",
              "</style>\n",
              "<table border=\"1\" class=\"dataframe\">\n",
              "  <thead>\n",
              "    <tr style=\"text-align: right;\">\n",
              "      <th></th>\n",
              "      <th>HEIGHT</th>\n",
              "      <th>WIDTH</th>\n",
              "      <th>SIGNED</th>\n",
              "      <th>PICTURE</th>\n",
              "      <th>HOUSE</th>\n",
              "      <th>SIZE</th>\n",
              "    </tr>\n",
              "  </thead>\n",
              "  <tbody>\n",
              "    <tr>\n",
              "      <th>0</th>\n",
              "      <td>21.3</td>\n",
              "      <td>25.6</td>\n",
              "      <td>1</td>\n",
              "      <td>1</td>\n",
              "      <td>1</td>\n",
              "      <td>545.28</td>\n",
              "    </tr>\n",
              "    <tr>\n",
              "      <th>1</th>\n",
              "      <td>31.9</td>\n",
              "      <td>25.6</td>\n",
              "      <td>1</td>\n",
              "      <td>2</td>\n",
              "      <td>2</td>\n",
              "      <td>816.64</td>\n",
              "    </tr>\n",
              "    <tr>\n",
              "      <th>2</th>\n",
              "      <td>6.9</td>\n",
              "      <td>15.9</td>\n",
              "      <td>0</td>\n",
              "      <td>3</td>\n",
              "      <td>3</td>\n",
              "      <td>109.71</td>\n",
              "    </tr>\n",
              "    <tr>\n",
              "      <th>3</th>\n",
              "      <td>25.7</td>\n",
              "      <td>32.0</td>\n",
              "      <td>1</td>\n",
              "      <td>4</td>\n",
              "      <td>2</td>\n",
              "      <td>822.40</td>\n",
              "    </tr>\n",
              "    <tr>\n",
              "      <th>4</th>\n",
              "      <td>25.7</td>\n",
              "      <td>32.0</td>\n",
              "      <td>1</td>\n",
              "      <td>4</td>\n",
              "      <td>2</td>\n",
              "      <td>822.40</td>\n",
              "    </tr>\n",
              "    <tr>\n",
              "      <th>...</th>\n",
              "      <td>...</td>\n",
              "      <td>...</td>\n",
              "      <td>...</td>\n",
              "      <td>...</td>\n",
              "      <td>...</td>\n",
              "      <td>...</td>\n",
              "    </tr>\n",
              "    <tr>\n",
              "      <th>425</th>\n",
              "      <td>25.6</td>\n",
              "      <td>39.4</td>\n",
              "      <td>1</td>\n",
              "      <td>375</td>\n",
              "      <td>1</td>\n",
              "      <td>1008.64</td>\n",
              "    </tr>\n",
              "    <tr>\n",
              "      <th>426</th>\n",
              "      <td>25.9</td>\n",
              "      <td>39.6</td>\n",
              "      <td>1</td>\n",
              "      <td>375</td>\n",
              "      <td>2</td>\n",
              "      <td>1025.64</td>\n",
              "    </tr>\n",
              "    <tr>\n",
              "      <th>427</th>\n",
              "      <td>25.6</td>\n",
              "      <td>39.6</td>\n",
              "      <td>1</td>\n",
              "      <td>375</td>\n",
              "      <td>1</td>\n",
              "      <td>1013.76</td>\n",
              "    </tr>\n",
              "    <tr>\n",
              "      <th>428</th>\n",
              "      <td>25.6</td>\n",
              "      <td>39.4</td>\n",
              "      <td>1</td>\n",
              "      <td>386</td>\n",
              "      <td>2</td>\n",
              "      <td>1008.64</td>\n",
              "    </tr>\n",
              "    <tr>\n",
              "      <th>429</th>\n",
              "      <td>25.7</td>\n",
              "      <td>32.0</td>\n",
              "      <td>1</td>\n",
              "      <td>387</td>\n",
              "      <td>1</td>\n",
              "      <td>822.40</td>\n",
              "    </tr>\n",
              "  </tbody>\n",
              "</table>\n",
              "<p>430 rows × 6 columns</p>\n",
              "</div>\n",
              "      <button class=\"colab-df-convert\" onclick=\"convertToInteractive('df-123caef2-00d2-49ea-a03e-c97d11722895')\"\n",
              "              title=\"Convert this dataframe to an interactive table.\"\n",
              "              style=\"display:none;\">\n",
              "        \n",
              "  <svg xmlns=\"http://www.w3.org/2000/svg\" height=\"24px\"viewBox=\"0 0 24 24\"\n",
              "       width=\"24px\">\n",
              "    <path d=\"M0 0h24v24H0V0z\" fill=\"none\"/>\n",
              "    <path d=\"M18.56 5.44l.94 2.06.94-2.06 2.06-.94-2.06-.94-.94-2.06-.94 2.06-2.06.94zm-11 1L8.5 8.5l.94-2.06 2.06-.94-2.06-.94L8.5 2.5l-.94 2.06-2.06.94zm10 10l.94 2.06.94-2.06 2.06-.94-2.06-.94-.94-2.06-.94 2.06-2.06.94z\"/><path d=\"M17.41 7.96l-1.37-1.37c-.4-.4-.92-.59-1.43-.59-.52 0-1.04.2-1.43.59L10.3 9.45l-7.72 7.72c-.78.78-.78 2.05 0 2.83L4 21.41c.39.39.9.59 1.41.59.51 0 1.02-.2 1.41-.59l7.78-7.78 2.81-2.81c.8-.78.8-2.07 0-2.86zM5.41 20L4 18.59l7.72-7.72 1.47 1.35L5.41 20z\"/>\n",
              "  </svg>\n",
              "      </button>\n",
              "      \n",
              "  <style>\n",
              "    .colab-df-container {\n",
              "      display:flex;\n",
              "      flex-wrap:wrap;\n",
              "      gap: 12px;\n",
              "    }\n",
              "\n",
              "    .colab-df-convert {\n",
              "      background-color: #E8F0FE;\n",
              "      border: none;\n",
              "      border-radius: 50%;\n",
              "      cursor: pointer;\n",
              "      display: none;\n",
              "      fill: #1967D2;\n",
              "      height: 32px;\n",
              "      padding: 0 0 0 0;\n",
              "      width: 32px;\n",
              "    }\n",
              "\n",
              "    .colab-df-convert:hover {\n",
              "      background-color: #E2EBFA;\n",
              "      box-shadow: 0px 1px 2px rgba(60, 64, 67, 0.3), 0px 1px 3px 1px rgba(60, 64, 67, 0.15);\n",
              "      fill: #174EA6;\n",
              "    }\n",
              "\n",
              "    [theme=dark] .colab-df-convert {\n",
              "      background-color: #3B4455;\n",
              "      fill: #D2E3FC;\n",
              "    }\n",
              "\n",
              "    [theme=dark] .colab-df-convert:hover {\n",
              "      background-color: #434B5C;\n",
              "      box-shadow: 0px 1px 3px 1px rgba(0, 0, 0, 0.15);\n",
              "      filter: drop-shadow(0px 1px 2px rgba(0, 0, 0, 0.3));\n",
              "      fill: #FFFFFF;\n",
              "    }\n",
              "  </style>\n",
              "\n",
              "      <script>\n",
              "        const buttonEl =\n",
              "          document.querySelector('#df-123caef2-00d2-49ea-a03e-c97d11722895 button.colab-df-convert');\n",
              "        buttonEl.style.display =\n",
              "          google.colab.kernel.accessAllowed ? 'block' : 'none';\n",
              "\n",
              "        async function convertToInteractive(key) {\n",
              "          const element = document.querySelector('#df-123caef2-00d2-49ea-a03e-c97d11722895');\n",
              "          const dataTable =\n",
              "            await google.colab.kernel.invokeFunction('convertToInteractive',\n",
              "                                                     [key], {});\n",
              "          if (!dataTable) return;\n",
              "\n",
              "          const docLinkHtml = 'Like what you see? Visit the ' +\n",
              "            '<a target=\"_blank\" href=https://colab.research.google.com/notebooks/data_table.ipynb>data table notebook</a>'\n",
              "            + ' to learn more about interactive tables.';\n",
              "          element.innerHTML = '';\n",
              "          dataTable['output_type'] = 'display_data';\n",
              "          await google.colab.output.renderOutput(dataTable, element);\n",
              "          const docLink = document.createElement('div');\n",
              "          docLink.innerHTML = docLinkHtml;\n",
              "          element.appendChild(docLink);\n",
              "        }\n",
              "      </script>\n",
              "    </div>\n",
              "  </div>\n",
              "  "
            ]
          },
          "metadata": {},
          "execution_count": 8
        }
      ],
      "source": [
        "# Seperating the dependent variable column from dataset and assigning new dataframe\n",
        "x = dset[['HEIGHT', 'WIDTH', 'SIGNED', 'PICTURE', 'HOUSE ', 'SIZE']]\n",
        "y = dset['PRICE']\n",
        "x"
      ]
    },
    {
      "cell_type": "code",
      "execution_count": 30,
      "id": "b8e94b39",
      "metadata": {
        "id": "b8e94b39"
      },
      "outputs": [],
      "source": [
        "# Importing train_test_split from sklearn.model_selection package\n",
        "from sklearn.model_selection import train_test_split\n",
        "X_train, X_test, y_train, y_test = train_test_split(x, y, test_size=0.2)"
      ]
    },
    {
      "cell_type": "code",
      "execution_count": 34,
      "id": "a90f107d",
      "metadata": {
        "colab": {
          "base_uri": "https://localhost:8080/"
        },
        "id": "a90f107d",
        "outputId": "fa177e45-bdb8-4f5d-dbb2-5940ba95a702"
      },
      "outputs": [
        {
          "output_type": "stream",
          "name": "stdout",
          "text": [
            "Reg score : 0.1486059101456172\n"
          ]
        }
      ],
      "source": [
        "# Importing LinearRegression from sklearn.linear_model\n",
        "from sklearn.linear_model import LinearRegression\n",
        "regressor = linear_model.LinearRegression()\n",
        "regressor.fit(X_train[['SIZE']], y_train)\n",
        "print(\"Reg score :\",regressor.score(X_test[['SIZE']], y_test))"
      ]
    },
    {
      "cell_type": "code",
      "execution_count": 33,
      "id": "4bb75158",
      "metadata": {
        "colab": {
          "base_uri": "https://localhost:8080/"
        },
        "id": "4bb75158",
        "outputId": "1edc5ac0-585b-4546-90f3-1c6869a4a05a"
      },
      "outputs": [
        {
          "output_type": "stream",
          "name": "stdout",
          "text": [
            "Regression Intercept 1.2624566057390025\n"
          ]
        }
      ],
      "source": [
        "#regression intercept\n",
        "print(\"Regression Intercept\",regressor.intercept_)"
      ]
    },
    {
      "cell_type": "code",
      "execution_count": 35,
      "id": "3ffa1087",
      "metadata": {
        "colab": {
          "base_uri": "https://localhost:8080/"
        },
        "id": "3ffa1087",
        "outputId": "7534af33-bd92-4a14-ad3b-304ba86e237d"
      },
      "outputs": [
        {
          "output_type": "stream",
          "name": "stdout",
          "text": [
            "Reg coeff [0.0020163]\n"
          ]
        }
      ],
      "source": [
        "#regressor coeffiennt\n",
        "print(\"Reg coeff\",regressor.coef_)"
      ]
    },
    {
      "cell_type": "code",
      "execution_count": 37,
      "id": "e16882d3",
      "metadata": {
        "colab": {
          "base_uri": "https://localhost:8080/"
        },
        "id": "e16882d3",
        "outputId": "b0012972-ad7a-40ea-8f02-a43292054d73"
      },
      "outputs": [
        {
          "output_type": "execute_result",
          "data": {
            "text/plain": [
              "array([2.71378894, 2.73596824, 1.6792257 , 2.39499184, 3.30412109,\n",
              "       2.24540258, 2.62813654, 1.85313153, 2.78516594, 2.90775695,\n",
              "       2.53568921, 2.25453642, 2.49504062, 2.92191137, 2.04701888,\n",
              "       1.91120095, 2.78992441, 2.90904738, 3.54244769, 3.61104219,\n",
              "       2.80452242, 2.74532387, 1.70059847, 1.97251662, 2.78040748,\n",
              "       3.80460694, 2.53568921, 3.26101261, 2.92066126, 2.29201943,\n",
              "       2.04881339, 3.13729248, 2.77871378, 3.35727074, 3.35727074,\n",
              "       3.16785958, 2.76754348, 2.40188758, 3.13729248, 2.10470521,\n",
              "       3.37769586, 2.05439854, 2.16253268, 2.91804007, 3.13398574,\n",
              "       2.40245215, 7.53042586, 2.17098097, 1.80742202, 2.4718935 ,\n",
              "       2.99342951, 3.63132616, 3.80460694, 3.35727074, 2.07260572,\n",
              "       5.04553843, 2.90775695, 2.98179546, 2.78040748, 3.13100162,\n",
              "       3.30650032, 4.90722029, 3.40406905, 2.80613546, 2.56216322,\n",
              "       1.85629712, 2.66620428, 3.12884418, 2.75201798, 2.73596824,\n",
              "       3.13729248, 2.31093231, 2.51528426, 3.17390847, 7.30941927,\n",
              "       2.78040748, 2.51528426, 1.44061682, 2.52955966, 2.90775695,\n",
              "       2.6397101 , 4.40838781, 3.61104219, 3.84590075, 4.89711863,\n",
              "       3.13729248])"
            ]
          },
          "metadata": {},
          "execution_count": 37
        }
      ],
      "source": [
        "#Target values for training data with linear reression model\n",
        "y_pred = regressor.predict(X_test[['SIZE']])\n",
        "y_pred"
      ]
    },
    {
      "cell_type": "code",
      "execution_count": 38,
      "id": "cfd466ef",
      "metadata": {
        "colab": {
          "base_uri": "https://localhost:8080/",
          "height": 296
        },
        "id": "cfd466ef",
        "outputId": "f27b0928-1f38-4d0a-aa4f-94be2b7f8537"
      },
      "outputs": [
        {
          "output_type": "execute_result",
          "data": {
            "text/plain": [
              "[<matplotlib.lines.Line2D at 0x7fe3042c3d50>]"
            ]
          },
          "metadata": {},
          "execution_count": 38
        },
        {
          "output_type": "display_data",
          "data": {
            "text/plain": [
              "<Figure size 432x288 with 1 Axes>"
            ],
            "image/png": "[encoded data removed]"
          },
          "metadata": {
            "needs_background": "light"
          }
        }
      ],
      "source": [
        "%matplotlib inline\n",
        "plt.xlabel(\"Size\")\n",
        "plt.ylabel(\"Price\")\n",
        "plt.scatter(dset.SIZE,dset.PRICE)\n",
        "plt.plot(dset.SIZE,regressor.predict(dset[['SIZE']]), color = 'Green')"
      ]
    },
    {
      "cell_type": "code",
      "execution_count": 39,
      "id": "0418e586",
      "metadata": {
        "colab": {
          "base_uri": "https://localhost:8080/"
        },
        "id": "0418e586",
        "outputId": "fff55fb9-b56c-443a-d6c5-bff924c1da68"
      },
      "outputs": [
        {
          "output_type": "stream",
          "name": "stdout",
          "text": [
            "Mean Absolute Error : 2.5375295820642423\n",
            "Mean Squared Error : 14.215781857948047\n",
            "Root Mean Squared Error : 3.7703821899043666\n"
          ]
        }
      ],
      "source": [
        "# Importing metrics from sklearn\n",
        "from sklearn import metrics\n",
        "# Evaluating MAE, MSE, RMSE\n",
        "print('Mean Absolute Error :', metrics.mean_absolute_error(y_test, y_pred))\n",
        "print('Mean Squared Error :', metrics.mean_squared_error(y_test, y_pred))\n",
        "print('Root Mean Squared Error :', np.sqrt(metrics.mean_squared_error(y_test, y_pred)))"
      ]
    },
    {
      "cell_type": "markdown",
      "id": "ff25b978",
      "metadata": {
        "id": "ff25b978"
      },
      "source": [
        "### Simple Linear Model -2"
      ]
    },
    {
      "cell_type": "code",
      "execution_count": 40,
      "id": "7655574b",
      "metadata": {
        "colab": {
          "base_uri": "https://localhost:8080/"
        },
        "id": "7655574b",
        "outputId": "e7d5b462-9278-4e42-c1e8-d4b481adfc20"
      },
      "outputs": [
        {
          "output_type": "execute_result",
          "data": {
            "text/plain": [
              "LinearRegression()"
            ]
          },
          "metadata": {},
          "execution_count": 40
        }
      ],
      "source": [
        "# Importing LinearRegression from sklearn.linear_model\n",
        "from sklearn.linear_model import LinearRegression\n",
        "# Buiding linear regression model\n",
        "regressor2 = linear_model.LinearRegression()\n",
        "# Fitting the model \n",
        "regressor2.fit(X_train[['WIDTH']], y_train)"
      ]
    },
    {
      "cell_type": "code",
      "execution_count": 41,
      "id": "a0b7dede",
      "metadata": {
        "colab": {
          "base_uri": "https://localhost:8080/"
        },
        "id": "a0b7dede",
        "outputId": "10a4852b-ed97-4083-cb57-99e188a4c5bb"
      },
      "outputs": [
        {
          "output_type": "stream",
          "name": "stdout",
          "text": [
            "0.1259171461268218\n"
          ]
        }
      ],
      "source": [
        "print(regressor2.score(X_test[['WIDTH']], y_test))"
      ]
    },
    {
      "cell_type": "code",
      "execution_count": 42,
      "id": "3cd66966",
      "metadata": {
        "colab": {
          "base_uri": "https://localhost:8080/"
        },
        "id": "3cd66966",
        "outputId": "41663743-13e6-429f-f3ce-7bbca52ab245"
      },
      "outputs": [
        {
          "output_type": "stream",
          "name": "stdout",
          "text": [
            "-1.204779186724228\n"
          ]
        }
      ],
      "source": [
        "# Finding the regression intercept\n",
        "print(regressor2.intercept_)"
      ]
    },
    {
      "cell_type": "code",
      "execution_count": 43,
      "id": "f2e1250c",
      "metadata": {
        "colab": {
          "base_uri": "https://localhost:8080/"
        },
        "id": "f2e1250c",
        "outputId": "ce72c48d-b080-456e-c489-24a55708919a"
      },
      "outputs": [
        {
          "output_type": "stream",
          "name": "stdout",
          "text": [
            "Regressor Coefficient [0.13589235]\n"
          ]
        }
      ],
      "source": [
        "# Finding regressor coeffiennt\n",
        "print(\"Regressor Coefficient\",regressor2.coef_)"
      ]
    },
    {
      "cell_type": "code",
      "execution_count": 21,
      "id": "ae5ca78a",
      "metadata": {
        "colab": {
          "base_uri": "https://localhost:8080/"
        },
        "id": "ae5ca78a",
        "outputId": "86b2efd9-b341-4e48-8299-74636c6f705c"
      },
      "outputs": [
        {
          "output_type": "execute_result",
          "data": {
            "text/plain": [
              "array([3.79344289, 3.17378807, 3.83667462, 5.13362659, 2.79911305,\n",
              "       3.11614576, 3.82226405, 4.25458137, 4.25458137, 3.0873246 ,\n",
              "       2.71264959, 3.83667462, 2.06417361, 2.53972266, 3.67815827,\n",
              "       3.18819864, 2.7702919 , 4.25458137, 3.82226405, 0.72398991,\n",
              "       1.96329957, 2.71264959, 9.91793828, 7.09346511, 2.29474285,\n",
              "       2.71264959, 3.2170198 , 3.17378807, 3.17378807, 2.69823901,\n",
              "       4.26899195, 3.47641019, 3.18819864, 3.79344289, 4.26899195,\n",
              "       4.25458137, 3.11614576, 2.323564  , 3.17378807, 3.18819864,\n",
              "       3.17378807, 2.26592169, 2.17945823, 3.8510852 , 2.03535245,\n",
              "       0.68075818, 2.26592169, 2.29474285, 3.17378807, 0.45018894,\n",
              "       3.79344289, 3.20260922, 5.98385065, 4.25458137, 3.59169481,\n",
              "       3.76462174, 1.97771014, 0.68075818, 0.16197739, 2.68382843,\n",
              "       2.74147074, 3.70697943, 2.74147074, 2.79911305, 3.17378807,\n",
              "       2.25151111, 3.11614576, 4.31222368, 2.88557652, 2.22268996,\n",
              "       2.71264959, 3.82226405, 0.68075818, 2.26592169, 2.7702919 ,\n",
              "       2.74147074, 3.90872751, 3.17378807, 4.25458137, 2.03535245,\n",
              "       3.79344289, 3.79344289, 3.31789384, 3.79344289, 3.20260922,\n",
              "       3.17378807])"
            ]
          },
          "metadata": {},
          "execution_count": 21
        }
      ],
      "source": [
        "# Predicting the target values for training data with linear reression model\n",
        "y_pred2 = regressor2.predict(X_test[['WIDTH']])\n",
        "y_pred2"
      ]
    },
    {
      "cell_type": "code",
      "execution_count": 45,
      "id": "27791338",
      "metadata": {
        "colab": {
          "base_uri": "https://localhost:8080/",
          "height": 296
        },
        "id": "27791338",
        "outputId": "2fecabdd-9f72-4ec9-853c-ea494ec780e5"
      },
      "outputs": [
        {
          "output_type": "execute_result",
          "data": {
            "text/plain": [
              "[<matplotlib.lines.Line2D at 0x7fe3041b0650>]"
            ]
          },
          "metadata": {},
          "execution_count": 45
        },
        {
          "output_type": "display_data",
          "data": {
            "text/plain": [
              "<Figure size 432x288 with 1 Axes>"
            ],
            "image/png": "[encoded data removed]"
          },
          "metadata": {
            "needs_background": "light"
          }
        }
      ],
      "source": [
        "%matplotlib inline\n",
        "plt.xlabel(\"Width\")\n",
        "plt.ylabel(\"Price\")\n",
        "plt.scatter(dset.WIDTH,dset.PRICE)\n",
        "plt.plot(dset.WIDTH,regressor2.predict(dset[['WIDTH']]), color='Green')"
      ]
    },
    {
      "cell_type": "code",
      "execution_count": 46,
      "id": "51c3d197",
      "metadata": {
        "colab": {
          "base_uri": "https://localhost:8080/"
        },
        "id": "51c3d197",
        "outputId": "395b4bd6-0b4e-4004-d332-6f57772a961b"
      },
      "outputs": [
        {
          "output_type": "stream",
          "name": "stdout",
          "text": [
            "Mean Absolute Error : 3.129341345822277\n",
            "Mean Squared Error : 19.172326604396126\n",
            "Root Mean Squared Error : 4.3786215415808805\n"
          ]
        }
      ],
      "source": [
        "# Importing metrics from sklearn\n",
        "from sklearn import metrics\n",
        "# Evaluating MAE, MSE, RMSE\n",
        "print('Mean Absolute Error :', metrics.mean_absolute_error(y_test, y_pred2))\n",
        "print('Mean Squared Error :', metrics.mean_squared_error(y_test, y_pred2))\n",
        "print('Root Mean Squared Error :', np.sqrt(metrics.mean_squared_error(y_test, y_pred2)))"
      ]
    },
    {
      "cell_type": "markdown",
      "id": "05b580a9",
      "metadata": {
        "id": "05b580a9"
      },
      "source": [
        "### 2) Multivariate Linear Regression"
      ]
    },
    {
      "cell_type": "code",
      "execution_count": 47,
      "id": "be00a9de",
      "metadata": {
        "colab": {
          "base_uri": "https://localhost:8080/"
        },
        "id": "be00a9de",
        "outputId": "a6842a09-044d-4445-b53c-2a5a10850d3a"
      },
      "outputs": [
        {
          "output_type": "execute_result",
          "data": {
            "text/plain": [
              "LinearRegression()"
            ]
          },
          "metadata": {},
          "execution_count": 47
        }
      ],
      "source": [
        "# Importing LinearRegression from sklearn.linear_model\n",
        "from sklearn.linear_model import LinearRegression\n",
        "# Buiding linear regression model\n",
        "regressor3 = linear_model.LinearRegression()\n",
        "# Fitting the model \n",
        "regressor3.fit(X_train[['HEIGHT', 'WIDTH', 'PICTURE']], y_train)"
      ]
    },
    {
      "cell_type": "code",
      "execution_count": 48,
      "id": "e21dc2ff",
      "metadata": {
        "colab": {
          "base_uri": "https://localhost:8080/"
        },
        "id": "e21dc2ff",
        "outputId": "34eb2180-6931-49bc-cb3c-5207aa22210f"
      },
      "outputs": [
        {
          "output_type": "stream",
          "name": "stdout",
          "text": [
            "0.19982125782847693\n"
          ]
        }
      ],
      "source": [
        "print(regressor3.score(X_test[['HEIGHT', 'WIDTH', 'PICTURE']], y_test))"
      ]
    },
    {
      "cell_type": "code",
      "execution_count": 49,
      "id": "52ec8302",
      "metadata": {
        "colab": {
          "base_uri": "https://localhost:8080/"
        },
        "id": "52ec8302",
        "outputId": "f59ed528-f802-4292-8e7c-d665d4741a70"
      },
      "outputs": [
        {
          "output_type": "stream",
          "name": "stdout",
          "text": [
            "-2.471146593450469\n"
          ]
        }
      ],
      "source": [
        "# Finding the regression intercept\n",
        "print(regressor3.intercept_)"
      ]
    },
    {
      "cell_type": "code",
      "execution_count": 50,
      "id": "799d23d5",
      "metadata": {
        "colab": {
          "base_uri": "https://localhost:8080/"
        },
        "id": "799d23d5",
        "outputId": "f07ad5c8-7ca1-45fe-8628-87f959d8442d"
      },
      "outputs": [
        {
          "output_type": "stream",
          "name": "stdout",
          "text": [
            "Regression coeff [0.06631321 0.10135003 0.00299454]\n"
          ]
        }
      ],
      "source": [
        "# finding regressor coeffiennt\n",
        "print(\"Regression coeff\",regressor3.coef_)"
      ]
    },
    {
      "cell_type": "code",
      "execution_count": 51,
      "id": "da28909a",
      "metadata": {
        "colab": {
          "base_uri": "https://localhost:8080/"
        },
        "id": "da28909a",
        "outputId": "3560cdc6-24da-492c-85e5-c216297a57cb"
      },
      "outputs": [
        {
          "output_type": "execute_result",
          "data": {
            "text/plain": [
              "array([ 3.17882035,  2.68806457,  0.87101369,  1.58332472,  3.4080823 ,\n",
              "        1.38565715,  2.46674422,  0.76269379,  2.99584418,  3.46321644,\n",
              "        2.27049127,  2.07887621,  2.63589147,  2.84412275,  2.01588214,\n",
              "        1.355363  ,  3.41024161,  3.25095897,  3.71869833,  3.92095735,\n",
              "        2.6833446 ,  3.2683129 ,  1.13594112,  1.84940279,  2.65631017,\n",
              "        4.19930885,  2.59989029,  3.72204851,  3.63518952,  1.55441602,\n",
              "        1.3002858 ,  3.56316767,  2.51308156,  3.87350408,  4.08312163,\n",
              "        2.85278039,  2.18352962,  2.02215655,  4.0333099 ,  1.57957287,\n",
              "        3.27529037,  1.68304138,  1.9367819 ,  3.26189075,  3.43302527,\n",
              "        2.47763097,  7.09839565,  1.95784252,  1.12669004,  2.26973132,\n",
              "        2.52523342,  3.99577126,  4.19631431,  3.53512145,  2.03676039,\n",
              "        5.02043979,  2.68164243,  3.23288794,  2.96175289,  3.21276357,\n",
              "        4.36288398,  5.23802586,  3.82562559,  3.47039854,  2.44540938,\n",
              "        1.27377854,  2.3801302 ,  3.21926179,  2.56165182,  2.48443609,\n",
              "        4.17105857,  2.02923498,  2.83287138,  3.81244005,  8.53272914,\n",
              "        2.8479605 ,  2.2429477 , -0.06562552,  2.76601662,  3.37038581,\n",
              "        2.60577739,  5.04092879,  3.92095735,  4.20203397,  4.67652011,\n",
              "        3.39846817])"
            ]
          },
          "metadata": {},
          "execution_count": 51
        }
      ],
      "source": [
        "# Predicting the target values for training data with linear reression model\n",
        "y_pred3 = regressor3.predict(X_test[['HEIGHT', 'WIDTH', 'PICTURE']])\n",
        "y_pred3"
      ]
    },
    {
      "cell_type": "code",
      "execution_count": 52,
      "id": "8693239b",
      "metadata": {
        "colab": {
          "base_uri": "https://localhost:8080/"
        },
        "id": "8693239b",
        "outputId": "074ea981-dd6e-4a9a-cb41-86d520cbf97b"
      },
      "outputs": [
        {
          "output_type": "stream",
          "name": "stdout",
          "text": [
            "Mean Absolute Error : 2.416989063575488\n",
            "Mean Squared Error : 13.360635904840688\n",
            "Root Mean Squared Error : 3.6552203633762885\n"
          ]
        }
      ],
      "source": [
        "# Importing metrics from sklearn\n",
        "from sklearn import metrics\n",
        "# Evaluating MAE, MSE, RMSE\n",
        "print('Mean Absolute Error :', metrics.mean_absolute_error(y_test, y_pred3))\n",
        "print('Mean Squared Error :', metrics.mean_squared_error(y_test, y_pred3))\n",
        "print('Root Mean Squared Error :', np.sqrt(metrics.mean_squared_error(y_test, y_pred3)))"
      ]
    }
  ],
  "metadata": {
    "kernelspec": {
      "display_name": "Python 3 (ipykernel)",
      "language": "python",
      "name": "python3"
    },
    "language_info": {
      "codemirror_mode": {
        "name": "ipython",
        "version": 3
      },
      "file_extension": ".py",
      "mimetype": "text/x-python",
      "name": "python",
      "nbconvert_exporter": "python",
      "pygments_lexer": "ipython3",
      "version": "3.10.2"
    },
    "colab": {
      "provenance": [],
      "collapsed_sections": [],
      "include_colab_link": true
    }
  },
  "nbformat": 4,
  "nbformat_minor": 5
}