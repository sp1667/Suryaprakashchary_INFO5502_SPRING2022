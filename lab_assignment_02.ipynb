{
  "cells": [
    {
      "cell_type": "markdown",
      "metadata": {
        "id": "view-in-github",
        "colab_type": "text"
      },
      "source": [
        "<a href=\"https://colab.research.google.com/github/sp1667/Suryaprakashchary_INFO5502_SPRING2022/blob/main/lab_assignment_02.ipynb\" target=\"_parent\"><img src=\"https://colab.research.google.com/assets/colab-badge.svg\" alt=\"Open In Colab\"/></a>"
      ]
    },
    {
      "cell_type": "markdown",
      "metadata": {
        "id": "Ryk8D1Q4Wsrp"
      },
      "source": [
        "# **The second Lab-assignment (02/04/2022, 50 points in total)**"
      ]
    },
    {
      "cell_type": "markdown",
      "metadata": {
        "id": "90_NR8c5XGWc"
      },
      "source": [
        "# Question 1\n",
        "\n",
        "(5 points). Write a Python program to generate 12 random numbers between 1 and 100. Sort the list of numbers in ascending order and print it out. Sort the list of numbers in descending order and print it out. Calculate the average for the group and print it out."
      ]
    },
    {
      "cell_type": "code",
      "execution_count": 2,
      "metadata": {
        "colab": {
          "base_uri": "https://localhost:8080/"
        },
        "id": "5QX6bJjGWXY9",
        "outputId": "acd2e983-002c-4d6c-fbd2-a7679ad31e54"
      },
      "outputs": [
        {
          "output_type": "stream",
          "name": "stdout",
          "text": [
            "Ascending Order :  [3, 4, 14, 16, 19, 23, 43, 44, 92, 100]\n",
            "Descending Order :  [100, 92, 44, 43, 23, 19, 16, 14, 4, 3]\n",
            "Average = 35.8\n"
          ]
        }
      ],
      "source": [
        "# Your code here\n",
        "import random\n",
        "arry=[]\n",
        "for x in range(10):\n",
        "  arry.append(random.randint(1,100))\n",
        "arry.sort()\n",
        "print(\"Ascending Order : \",arry)\n",
        "l1=arry\n",
        "a=l1[::-1]\n",
        "print(\"Descending Order : \",a)\n",
        "c=sum(a)/len(a)\n",
        "print(\"Average =\",c)\n",
        "\n"
      ]
    },
    {
      "cell_type": "markdown",
      "metadata": {
        "id": "1F_PZdH9Sh49"
      },
      "source": [
        "# Question 2\n",
        "(20 points). Write a program that will do the following string formatting tasks:\n",
        "\n",
        "(1) Ask the user to enter two sentences.\n",
        "\n",
        "(2) Make each sentence into a list. Each element in the list should correspond to a word in the sentence. For example, if the sentence is \"Alas! Am I alive? This is my first python program\", the program should print out ['Alas, '!', 'Am', 'I', 'alive, '?', 'This', 'is', 'my', 'first', 'python', 'program'].\n",
        "\n",
        "(3) Compare the two sentences. Print out a list of words that occur in both sentences.\n",
        "\n",
        "(4) Remove any punctuation from the sentence and print it back out. It should remove at least the following characters, but it can remove more: period(“.”), comma (“,”), semicolon (“;”), and colon (“:”)\n",
        "\n",
        "(5) Count the number of vowels in the sentences. Print out each vowel and the number of times it appears in the sentences, such as: a:2, e:1, i:0, etc"
      ]
    },
    {
      "cell_type": "code",
      "execution_count": 3,
      "metadata": {
        "colab": {
          "base_uri": "https://localhost:8080/"
        },
        "id": "Y0oOSlsOS0cq",
        "outputId": "a48bf4ab-0c40-4890-f9dc-27abb3c2865a"
      },
      "outputs": [
        {
          "output_type": "stream",
          "name": "stdout",
          "text": [
            "Enter first sentence : suryab idsfkjn jnfkjw\n",
            "Enter second sentence : fkjszjn jnskjdn jnfsj\n",
            "['suryab', 'idsfkjn', 'jnfkjw']\n",
            "['fkjszjn', 'jnskjdn', 'jnfsj']\n",
            "\n",
            " Common\n",
            "\n",
            " not with punctuation\n",
            "\n",
            " vowel: {'a': 1, 'e': 0, 'i': 1, 'o': 0, 'u': 1}\n"
          ]
        }
      ],
      "source": [
        "# Your code here\n",
        "import string\n",
        "import re\n",
        "sen1 = input(\"Enter first sentence : \")\n",
        "sen2 = input(\"Enter second sentence : \")\n",
        "b1=re.findall(r\"[\\w']+|[.,!?;:]\",sen1)\n",
        "b2=re.findall(r\"[\\w']+|[.,!?;:]\",sen2)\n",
        "\n",
        "print(b1)\n",
        "print(b2)\n",
        "\n",
        "print(\"\\n Common\")\n",
        "for word in b1:\n",
        "  for other in b2:\n",
        "    if word.lower() == other.lower():\n",
        "      print(word)\n",
        "\n",
        "print(\"\\n not with punctuation\")\n",
        "for word in b1:\n",
        "  for other in b2:\n",
        "    if word.lower() == other.lower() and word not in string.punctuation:\n",
        "      print(word)\n",
        "\n",
        "vowels={'a':0,'e':0,'i':0,'o':0,'u':0}\n",
        "for letter in sen1:\n",
        "  if letter.lower() in vowels:\n",
        "    vowels[letter.lower()]+=1\n",
        "\n",
        "print(\"\\n vowel:\",vowels) "
      ]
    },
    {
      "cell_type": "markdown",
      "metadata": {
        "id": "CmFoI4jDS9nx"
      },
      "source": [
        "# Question 3 \n",
        "\n",
        "(5 points). The formula that describes the volume V of a sphere with radius r is the following:\n",
        "\n",
        "$ V=\\frac{4}{3}\\ast\\ \\pi\\ast\\ r^3 $\n",
        "\n",
        "Write a program to calculate the value of V when r is in the range of 1–10. Output the result in the following format:\n",
        "\n",
        "\tr\tV\n",
        "\t1\t…\n",
        "\t2\t…\n",
        "\t3\t…\n"
      ]
    },
    {
      "cell_type": "code",
      "execution_count": 4,
      "metadata": {
        "colab": {
          "base_uri": "https://localhost:8080/"
        },
        "id": "pEyqeioAT95b",
        "outputId": "b9076206-208c-4b6d-d907-af32181ddad3"
      },
      "outputs": [
        {
          "output_type": "stream",
          "name": "stdout",
          "text": [
            "r  V\n",
            "1 4.1887902047863905\n",
            "2 33.510321638291124\n",
            "3 113.09733552923254\n",
            "4 268.082573106329\n",
            "5 523.5987755982989\n",
            "6 904.7786842338603\n",
            "7 1436.7550402417319\n",
            "8 2144.660584850632\n",
            "9 3053.6280592892786\n"
          ]
        }
      ],
      "source": [
        "# Your code here\n",
        "print(\"r  V\")\n",
        "pi = 3.141592653589793\n",
        "for r in range(1,10):\n",
        "  V = (4/3) * pi * pow(r,3)\n",
        "  print(r,V)\n"
      ]
    },
    {
      "cell_type": "markdown",
      "metadata": {
        "id": "z3tBE7E-Xn5X"
      },
      "source": [
        "# Question 4\n",
        "\n",
        "(20 points). In the field of Data Science, data is often formatted as a comma-delimited (CSV) file, where each line in a file corresponds to a field's value. Refer to Chapter 9 (p. 106) for more information on comma-delimited files. To answer this question, you will need to download the file [lab_assignment_02_denton_housing.csv](https://raw.githubusercontent.com/unt-iialab/info5502-spring2022/main/datasets/lab_assignment_02_denton_housing.csv) included with this assignment. The file [lab_assignment_02_denton_housing.csv](https://raw.githubusercontent.com/unt-iialab/info5502-spring2022/main/datasets/lab_assignment_02_denton_housing.csv) contains statistics about housing in the city of Denton from 2008 to 2014. Write a program to implement the following questions.\n",
        "\n",
        "(1) (10 pts) Calculate the difference in the number of Occupied Housing Units from year to year and print it. The difference must be calculated for the consecutive years such as 2008-2009, 2009-2010 etc. Finally, print the values in the ascending order.\n",
        "\n",
        "(2) (10 pts) For all the years, calculate the percentage of housing units which are vacant an occupied. Print the results in the following format:\n",
        "\n",
        "Year Vacant Housing Units Occupied Housing Units\n",
        "\n",
        "    2008  30%   70%                          \n",
        "\t2009 ----- -----\n",
        "\t2010 ----- -----\n",
        "    2011 ----- -----\n",
        "\t2012 ----- -----\n",
        "    2013 ----- -----\n",
        "\t2014 ----- -----\n",
        "  \n",
        "  \n",
        "\n",
        "(3) (10 pts) Calculate and print the valued and years in which the highest number of housing units were vacant and occupied. Print the results in the following format:  \n",
        "\n",
        "                              Year\tValue\n",
        "\tVacant Housing Units\t  -----   -----\n",
        "\tOccupied Housing Units\t-----   -----\n",
        "\n",
        "(4) (10 pts) Calculate the harmonic mean of the total housing units and print it out. You can find the information about harmonic mean here: https://ncalculators.com/statistics/harmonic-mean-calculator.htm"
      ]
    },
    {
      "cell_type": "code",
      "execution_count": 6,
      "metadata": {
        "id": "lqGYuHBhcsRH"
      },
      "outputs": [],
      "source": [
        "# Your code here\n",
        "import pandas as pd\n",
        "import random as rand\n",
        "\n",
        "\n"
      ]
    },
    {
      "cell_type": "code",
      "source": [
        "df = pd.read_csv('https://raw.githubusercontent.com/unt-iialab/info5502-spring2022/main/datasets/lab_assignment_02_denton_housing.csv')\n",
        "\n",
        "df1=df[df[\"title_field\"]=='Occupied Housing Units']\n",
        "df1.sort_values(by=['year'],ascending=True,inplace=True)\n",
        "df1[\"value_DIFF\"]=abs(df1[\"value\"].diff())\n",
        "df1=df1.dropna()\n",
        "df1=df1.reset_index(drop=True)\n",
        "df1.sort_values(by='value_DIFF',ascending=True,inplace=True)\n",
        "for ma in df1.index:\n",
        "  print(str(df1['year'][ma])+'-'+str(df1['year'][ma]-1),'',df1['value_DIFF'][ma])"
      ],
      "metadata": {
        "colab": {
          "base_uri": "https://localhost:8080/"
        },
        "id": "FMJbylQuuGbD",
        "outputId": "3af13b59-a361-46fd-c785-3e2dc6637e7f"
      },
      "execution_count": 7,
      "outputs": [
        {
          "output_type": "stream",
          "name": "stdout",
          "text": [
            "2011-2010  303.0\n",
            "2009-2008  795.0\n",
            "2012-2011  1404.0\n",
            "2013-2012  1565.0\n",
            "2014-2013  2622.0\n",
            "2010-2009  5091.0\n"
          ]
        },
        {
          "output_type": "stream",
          "name": "stderr",
          "text": [
            "/usr/local/lib/python3.7/dist-packages/pandas/util/_decorators.py:311: SettingWithCopyWarning: \n",
            "A value is trying to be set on a copy of a slice from a DataFrame\n",
            "\n",
            "See the caveats in the documentation: https://pandas.pydata.org/pandas-docs/stable/user_guide/indexing.html#returning-a-view-versus-a-copy\n",
            "  return func(*args, **kwargs)\n",
            "/usr/local/lib/python3.7/dist-packages/ipykernel_launcher.py:5: SettingWithCopyWarning: \n",
            "A value is trying to be set on a copy of a slice from a DataFrame.\n",
            "Try using .loc[row_indexer,col_indexer] = value instead\n",
            "\n",
            "See the caveats in the documentation: https://pandas.pydata.org/pandas-docs/stable/user_guide/indexing.html#returning-a-view-versus-a-copy\n",
            "  \"\"\"\n"
          ]
        }
      ]
    },
    {
      "cell_type": "code",
      "source": [
        "#2 nd Question\n",
        "import math\n",
        "X1=0.0\n",
        "T=0.0\n",
        "df=df.reset_index(drop=True)\n",
        "for year in range(2008,2015):\n",
        "    X1=df[(df['year'] == year) & (df['title_field'] == 'Vacant Housing Units')]['value'].values[0]\n",
        "    X2=df[(df['year'] == year) & (df['title_field'] == 'Occupied Housing Units')]['value'].values[0]\n",
        "    T=df[(df['year'] == year) & (df['title_field'] == 'Total Housing Units')]['value'].values[0] \n",
        "    Vac_Percentage=round((X1/T)*100)\n",
        "    Occ_Percentage=round((X2/T)*100)\n",
        "    print(year,str(Vac_Percentage)+'%','',str(Occ_Percentage)+'%')"
      ],
      "metadata": {
        "colab": {
          "base_uri": "https://localhost:8080/"
        },
        "id": "v785nD-eic7g",
        "outputId": "e80bd2e4-8f6f-47d6-8af4-677a407ae0de"
      },
      "execution_count": 8,
      "outputs": [
        {
          "output_type": "stream",
          "name": "stdout",
          "text": [
            "2008 11%  89%\n",
            "2009 9%  91%\n",
            "2010 8%  92%\n",
            "2011 9%  91%\n",
            "2012 7%  93%\n",
            "2013 9%  91%\n",
            "2014 6%  94%\n"
          ]
        }
      ]
    },
    {
      "cell_type": "code",
      "source": [
        "#3 rd Question\n",
        "print(' ','Year','Value')\n",
        "for i in ('Vacant Housing Units','Occupied Housing Units'):\n",
        "    X3=df[(df['title_field'] == i)]['value'].max()\n",
        "    X4=df[(df['title_field'] == i)]['year'].max()\n",
        "    print(i,X4,X3)"
      ],
      "metadata": {
        "colab": {
          "base_uri": "https://localhost:8080/"
        },
        "id": "Lsj_FRKAi2Rr",
        "outputId": "b7ee487a-4072-46ce-f4b4-8b96fe246aad"
      },
      "execution_count": 9,
      "outputs": [
        {
          "output_type": "stream",
          "name": "stdout",
          "text": [
            "  Year Value\n",
            "Vacant Housing Units 2014 4483\n",
            "Occupied Housing Units 2014 46295\n"
          ]
        }
      ]
    },
    {
      "cell_type": "code",
      "source": [
        "#4 th Question\n",
        "import statistics\n",
        "print(statistics.harmonic_mean(df[(df['title_field'] == 'Total Housing Units')]['value']))"
      ],
      "metadata": {
        "colab": {
          "base_uri": "https://localhost:8080/"
        },
        "id": "Q9y8HtKbi7fg",
        "outputId": "66c15065-6e0f-4e0b-bc33-006915d8d829"
      },
      "execution_count": 10,
      "outputs": [
        {
          "output_type": "stream",
          "name": "stdout",
          "text": [
            "44398.28543969185\n"
          ]
        }
      ]
    }
  ],
  "metadata": {
    "colab": {
      "collapsed_sections": [],
      "name": "lab_assignment_02.ipynb",
      "provenance": [],
      "include_colab_link": true
    },
    "kernelspec": {
      "display_name": "Python 3 (ipykernel)",
      "language": "python",
      "name": "python3"
    },
    "language_info": {
      "codemirror_mode": {
        "name": "ipython",
        "version": 3
      },
      "file_extension": ".py",
      "mimetype": "text/x-python",
      "name": "python",
      "nbconvert_exporter": "python",
      "pygments_lexer": "ipython3",
      "version": "3.10.2"
    }
  },
  "nbformat": 4,
  "nbformat_minor": 0
}